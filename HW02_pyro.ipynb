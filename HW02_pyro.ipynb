{
  "nbformat": 4,
  "nbformat_minor": 0,
  "metadata": {
    "colab": {
      "name": "HW02-pyro.ipynb",
      "provenance": [],
      "authorship_tag": "ABX9TyNIBBJHaKHmfJc6Vvj8mctr",
      "include_colab_link": true
    },
    "kernelspec": {
      "name": "python3",
      "display_name": "Python 3"
    },
    "language_info": {
      "name": "python"
    }
  },
  "cells": [
    {
      "cell_type": "markdown",
      "metadata": {
        "id": "view-in-github",
        "colab_type": "text"
      },
      "source": [
        "<a href=\"https://colab.research.google.com/github/ImolaFodor/probabilistic-ML/blob/main/HW02_pyro.ipynb\" target=\"_parent\"><img src=\"https://colab.research.google.com/assets/colab-badge.svg\" alt=\"Open In Colab\"/></a>"
      ]
    },
    {
      "cell_type": "markdown",
      "source": [
        "http://pyro.ai/examples/intro_long.html"
      ],
      "metadata": {
        "id": "aZRSJnXse6pr"
      }
    },
    {
      "cell_type": "code",
      "source": [
        "%reset -s -f"
      ],
      "metadata": {
        "id": "BtBQcbO0e5pX"
      },
      "execution_count": 1,
      "outputs": []
    },
    {
      "cell_type": "code",
      "source": [
        "!pip3 install pyro-ppl"
      ],
      "metadata": {
        "colab": {
          "base_uri": "https://localhost:8080/"
        },
        "id": "i3hUvZDbuZJd",
        "outputId": "a306aee9-c721-4927-805f-99eb89b6a85e"
      },
      "execution_count": 1,
      "outputs": [
        {
          "output_type": "stream",
          "name": "stdout",
          "text": [
            "Collecting pyro-ppl\n",
            "  Downloading pyro_ppl-1.8.1-py3-none-any.whl (718 kB)\n",
            "\u001b[?25l\r\u001b[K     |▌                               | 10 kB 28.6 MB/s eta 0:00:01\r\u001b[K     |█                               | 20 kB 32.4 MB/s eta 0:00:01\r\u001b[K     |█▍                              | 30 kB 6.4 MB/s eta 0:00:01\r\u001b[K     |█▉                              | 40 kB 8.1 MB/s eta 0:00:01\r\u001b[K     |██▎                             | 51 kB 9.7 MB/s eta 0:00:01\r\u001b[K     |██▊                             | 61 kB 11.4 MB/s eta 0:00:01\r\u001b[K     |███▏                            | 71 kB 11.4 MB/s eta 0:00:01\r\u001b[K     |███▋                            | 81 kB 7.6 MB/s eta 0:00:01\r\u001b[K     |████                            | 92 kB 8.4 MB/s eta 0:00:01\r\u001b[K     |████▋                           | 102 kB 9.2 MB/s eta 0:00:01\r\u001b[K     |█████                           | 112 kB 9.2 MB/s eta 0:00:01\r\u001b[K     |█████▌                          | 122 kB 9.2 MB/s eta 0:00:01\r\u001b[K     |██████                          | 133 kB 9.2 MB/s eta 0:00:01\r\u001b[K     |██████▍                         | 143 kB 9.2 MB/s eta 0:00:01\r\u001b[K     |██████▉                         | 153 kB 9.2 MB/s eta 0:00:01\r\u001b[K     |███████▎                        | 163 kB 9.2 MB/s eta 0:00:01\r\u001b[K     |███████▊                        | 174 kB 9.2 MB/s eta 0:00:01\r\u001b[K     |████████▏                       | 184 kB 9.2 MB/s eta 0:00:01\r\u001b[K     |████████▊                       | 194 kB 9.2 MB/s eta 0:00:01\r\u001b[K     |█████████▏                      | 204 kB 9.2 MB/s eta 0:00:01\r\u001b[K     |█████████▋                      | 215 kB 9.2 MB/s eta 0:00:01\r\u001b[K     |██████████                      | 225 kB 9.2 MB/s eta 0:00:01\r\u001b[K     |██████████▌                     | 235 kB 9.2 MB/s eta 0:00:01\r\u001b[K     |███████████                     | 245 kB 9.2 MB/s eta 0:00:01\r\u001b[K     |███████████▍                    | 256 kB 9.2 MB/s eta 0:00:01\r\u001b[K     |███████████▉                    | 266 kB 9.2 MB/s eta 0:00:01\r\u001b[K     |████████████▎                   | 276 kB 9.2 MB/s eta 0:00:01\r\u001b[K     |████████████▊                   | 286 kB 9.2 MB/s eta 0:00:01\r\u001b[K     |█████████████▎                  | 296 kB 9.2 MB/s eta 0:00:01\r\u001b[K     |█████████████▊                  | 307 kB 9.2 MB/s eta 0:00:01\r\u001b[K     |██████████████▏                 | 317 kB 9.2 MB/s eta 0:00:01\r\u001b[K     |██████████████▋                 | 327 kB 9.2 MB/s eta 0:00:01\r\u001b[K     |███████████████                 | 337 kB 9.2 MB/s eta 0:00:01\r\u001b[K     |███████████████▌                | 348 kB 9.2 MB/s eta 0:00:01\r\u001b[K     |████████████████                | 358 kB 9.2 MB/s eta 0:00:01\r\u001b[K     |████████████████▍               | 368 kB 9.2 MB/s eta 0:00:01\r\u001b[K     |████████████████▉               | 378 kB 9.2 MB/s eta 0:00:01\r\u001b[K     |█████████████████▍              | 389 kB 9.2 MB/s eta 0:00:01\r\u001b[K     |█████████████████▉              | 399 kB 9.2 MB/s eta 0:00:01\r\u001b[K     |██████████████████▎             | 409 kB 9.2 MB/s eta 0:00:01\r\u001b[K     |██████████████████▊             | 419 kB 9.2 MB/s eta 0:00:01\r\u001b[K     |███████████████████▏            | 430 kB 9.2 MB/s eta 0:00:01\r\u001b[K     |███████████████████▋            | 440 kB 9.2 MB/s eta 0:00:01\r\u001b[K     |████████████████████            | 450 kB 9.2 MB/s eta 0:00:01\r\u001b[K     |████████████████████▌           | 460 kB 9.2 MB/s eta 0:00:01\r\u001b[K     |█████████████████████           | 471 kB 9.2 MB/s eta 0:00:01\r\u001b[K     |█████████████████████▍          | 481 kB 9.2 MB/s eta 0:00:01\r\u001b[K     |██████████████████████          | 491 kB 9.2 MB/s eta 0:00:01\r\u001b[K     |██████████████████████▍         | 501 kB 9.2 MB/s eta 0:00:01\r\u001b[K     |██████████████████████▉         | 512 kB 9.2 MB/s eta 0:00:01\r\u001b[K     |███████████████████████▎        | 522 kB 9.2 MB/s eta 0:00:01\r\u001b[K     |███████████████████████▊        | 532 kB 9.2 MB/s eta 0:00:01\r\u001b[K     |████████████████████████▏       | 542 kB 9.2 MB/s eta 0:00:01\r\u001b[K     |████████████████████████▋       | 552 kB 9.2 MB/s eta 0:00:01\r\u001b[K     |█████████████████████████       | 563 kB 9.2 MB/s eta 0:00:01\r\u001b[K     |█████████████████████████▌      | 573 kB 9.2 MB/s eta 0:00:01\r\u001b[K     |██████████████████████████      | 583 kB 9.2 MB/s eta 0:00:01\r\u001b[K     |██████████████████████████▌     | 593 kB 9.2 MB/s eta 0:00:01\r\u001b[K     |███████████████████████████     | 604 kB 9.2 MB/s eta 0:00:01\r\u001b[K     |███████████████████████████▍    | 614 kB 9.2 MB/s eta 0:00:01\r\u001b[K     |███████████████████████████▉    | 624 kB 9.2 MB/s eta 0:00:01\r\u001b[K     |████████████████████████████▎   | 634 kB 9.2 MB/s eta 0:00:01\r\u001b[K     |████████████████████████████▊   | 645 kB 9.2 MB/s eta 0:00:01\r\u001b[K     |█████████████████████████████▏  | 655 kB 9.2 MB/s eta 0:00:01\r\u001b[K     |█████████████████████████████▋  | 665 kB 9.2 MB/s eta 0:00:01\r\u001b[K     |██████████████████████████████  | 675 kB 9.2 MB/s eta 0:00:01\r\u001b[K     |██████████████████████████████▋ | 686 kB 9.2 MB/s eta 0:00:01\r\u001b[K     |███████████████████████████████ | 696 kB 9.2 MB/s eta 0:00:01\r\u001b[K     |███████████████████████████████▌| 706 kB 9.2 MB/s eta 0:00:01\r\u001b[K     |████████████████████████████████| 716 kB 9.2 MB/s eta 0:00:01\r\u001b[K     |████████████████████████████████| 718 kB 9.2 MB/s \n",
            "\u001b[?25hRequirement already satisfied: numpy>=1.7 in /usr/local/lib/python3.7/dist-packages (from pyro-ppl) (1.21.5)\n",
            "Requirement already satisfied: opt-einsum>=2.3.2 in /usr/local/lib/python3.7/dist-packages (from pyro-ppl) (3.3.0)\n",
            "Collecting torch>=1.11.0\n",
            "  Downloading torch-1.11.0-cp37-cp37m-manylinux1_x86_64.whl (750.6 MB)\n",
            "\u001b[K     |████████████████████████████████| 750.6 MB 12 kB/s \n",
            "\u001b[?25hRequirement already satisfied: tqdm>=4.36 in /usr/local/lib/python3.7/dist-packages (from pyro-ppl) (4.63.0)\n",
            "Collecting pyro-api>=0.1.1\n",
            "  Downloading pyro_api-0.1.2-py3-none-any.whl (11 kB)\n",
            "Requirement already satisfied: typing-extensions in /usr/local/lib/python3.7/dist-packages (from torch>=1.11.0->pyro-ppl) (3.10.0.2)\n",
            "Installing collected packages: torch, pyro-api, pyro-ppl\n",
            "  Attempting uninstall: torch\n",
            "    Found existing installation: torch 1.10.0+cu111\n",
            "    Uninstalling torch-1.10.0+cu111:\n",
            "      Successfully uninstalled torch-1.10.0+cu111\n",
            "\u001b[31mERROR: pip's dependency resolver does not currently take into account all the packages that are installed. This behaviour is the source of the following dependency conflicts.\n",
            "torchvision 0.11.1+cu111 requires torch==1.10.0, but you have torch 1.11.0 which is incompatible.\n",
            "torchtext 0.11.0 requires torch==1.10.0, but you have torch 1.11.0 which is incompatible.\n",
            "torchaudio 0.10.0+cu111 requires torch==1.10.0, but you have torch 1.11.0 which is incompatible.\u001b[0m\n",
            "Successfully installed pyro-api-0.1.2 pyro-ppl-1.8.1 torch-1.11.0\n"
          ]
        }
      ]
    },
    {
      "cell_type": "code",
      "execution_count": 9,
      "metadata": {
        "colab": {
          "base_uri": "https://localhost:8080/",
          "height": 356
        },
        "id": "nCurSyKaewr0",
        "outputId": "b512e9d5-189d-4cf2-f122-db058a947979"
      },
      "outputs": [
        {
          "output_type": "stream",
          "name": "stderr",
          "text": [
            "/usr/local/lib/python3.7/dist-packages/seaborn/distributions.py:2619: FutureWarning: `distplot` is a deprecated function and will be removed in a future version. Please adapt your code to use either `displot` (a figure-level function with similar flexibility) or `histplot` (an axes-level function for histograms).\n",
            "  warnings.warn(msg, FutureWarning)\n"
          ]
        },
        {
          "output_type": "execute_result",
          "data": {
            "text/plain": [
              "<matplotlib.axes._subplots.AxesSubplot at 0x7f820852bb50>"
            ]
          },
          "metadata": {},
          "execution_count": 9
        },
        {
          "output_type": "display_data",
          "data": {
            "text/plain": [
              "<Figure size 432x288 with 1 Axes>"
            ],
            "image/png": "[encoded data removed]"
          },
          "metadata": {
            "needs_background": "light"
          }
        }
      ],
      "source": [
        "import torch\n",
        "import pyro\n",
        "pyro.set_rng_seed(1) # for reproducibility\n",
        "\n",
        "import seaborn as sns\n",
        "import matplotlib.pyplot as plt\n",
        "import pyro.distributions as dist\n",
        "# distributions\n",
        "exp = dist.Exponential(0.5)\n",
        "# multiple samples\n",
        "\n",
        "exp_samples = [pyro.sample(\"e\",exp) for i in range(200)]\n",
        "\n",
        "#plot\n",
        "plt = sns.distplot(exp_samples)\n",
        "plt.set_title('PMF')\n",
        "plt"
      ]
    },
    {
      "cell_type": "code",
      "source": [
        "kwargs = {'cumulative': True}\n",
        "plt2 = sns.distplot(exp_samples, hist_kws=kwargs, kde_kws=kwargs)\n",
        "plt2.set_title('CDF')"
      ],
      "metadata": {
        "colab": {
          "base_uri": "https://localhost:8080/",
          "height": 356
        },
        "id": "w6B7sbxwzit_",
        "outputId": "c46a8bd9-4c3a-4659-96b2-df75b353275b"
      },
      "execution_count": 11,
      "outputs": [
        {
          "output_type": "stream",
          "name": "stderr",
          "text": [
            "/usr/local/lib/python3.7/dist-packages/seaborn/distributions.py:2619: FutureWarning: `distplot` is a deprecated function and will be removed in a future version. Please adapt your code to use either `displot` (a figure-level function with similar flexibility) or `histplot` (an axes-level function for histograms).\n",
            "  warnings.warn(msg, FutureWarning)\n"
          ]
        },
        {
          "output_type": "execute_result",
          "data": {
            "text/plain": [
              "Text(0.5, 1.0, 'CDF')"
            ]
          },
          "metadata": {},
          "execution_count": 11
        },
        {
          "output_type": "display_data",
          "data": {
            "text/plain": [
              "<Figure size 432x288 with 1 Axes>"
            ],
            "image/png": "[encoded data removed]"
          },
          "metadata": {
            "needs_background": "light"
          }
        }
      ]
    },
    {
      "cell_type": "markdown",
      "source": [
        "f(x)=λe^(−λx) --> \n",
        "integral 1/2*e^(-t/2) from 0 to 2 = 0.63"
      ],
      "metadata": {
        "id": "282GP3uJ8AlC"
      }
    },
    {
      "cell_type": "code",
      "source": [
        "exp.cdf(torch.Tensor([2]))"
      ],
      "metadata": {
        "colab": {
          "base_uri": "https://localhost:8080/"
        },
        "id": "NRIejzOJ3Y2F",
        "outputId": "ca9bdd87-fd62-4afb-d6fb-db76cc0539a4"
      },
      "execution_count": 34,
      "outputs": [
        {
          "output_type": "execute_result",
          "data": {
            "text/plain": [
              "tensor([0.6321])"
            ]
          },
          "metadata": {},
          "execution_count": 34
        }
      ]
    }
  ]
}