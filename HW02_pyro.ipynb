{
  "nbformat": 4,
  "nbformat_minor": 0,
  "metadata": {
    "colab": {
      "name": "HW02-pyro.ipynb",
      "provenance": [],
      "collapsed_sections": [],
      "authorship_tag": "ABX9TyO2fAfHuaDPrHTdtztJDiHH",
      "include_colab_link": true
    },
    "kernelspec": {
      "name": "python3",
      "display_name": "Python 3"
    },
    "language_info": {
      "name": "python"
    }
  },
  "cells": [
    {
      "cell_type": "markdown",
      "metadata": {
        "id": "view-in-github",
        "colab_type": "text"
      },
      "source": [
        "<a href=\"https://colab.research.google.com/github/ImolaFodor/probabilistic-ML/blob/main/HW02_pyro.ipynb\" target=\"_parent\"><img src=\"https://colab.research.google.com/assets/colab-badge.svg\" alt=\"Open In Colab\"/></a>"
      ]
    },
    {
      "cell_type": "markdown",
      "source": [
        "http://pyro.ai/examples/intro_long.html"
      ],
      "metadata": {
        "id": "aZRSJnXse6pr"
      }
    },
    {
      "cell_type": "code",
      "source": [
        "%reset -s -f"
      ],
      "metadata": {
        "id": "BtBQcbO0e5pX"
      },
      "execution_count": 1,
      "outputs": []
    },
    {
      "cell_type": "code",
      "source": [
        "!pip3 install pyro-ppl"
      ],
      "metadata": {
        "colab": {
          "base_uri": "https://localhost:8080/"
        },
        "id": "i3hUvZDbuZJd",
        "outputId": "fc9b9646-9dcf-4181-849f-95e07e28d63c"
      },
      "execution_count": 2,
      "outputs": [
        {
          "output_type": "stream",
          "name": "stdout",
          "text": [
            "Collecting pyro-ppl\n",
            "  Downloading pyro_ppl-1.8.1-py3-none-any.whl (718 kB)\n",
            "\u001b[?25l\r\u001b[K     |▌                               | 10 kB 14.7 MB/s eta 0:00:01\r\u001b[K     |█                               | 20 kB 11.7 MB/s eta 0:00:01\r\u001b[K     |█▍                              | 30 kB 8.8 MB/s eta 0:00:01\r\u001b[K     |█▉                              | 40 kB 4.7 MB/s eta 0:00:01\r\u001b[K     |██▎                             | 51 kB 4.2 MB/s eta 0:00:01\r\u001b[K     |██▊                             | 61 kB 4.9 MB/s eta 0:00:01\r\u001b[K     |███▏                            | 71 kB 5.0 MB/s eta 0:00:01\r\u001b[K     |███▋                            | 81 kB 5.1 MB/s eta 0:00:01\r\u001b[K     |████                            | 92 kB 5.3 MB/s eta 0:00:01\r\u001b[K     |████▋                           | 102 kB 5.1 MB/s eta 0:00:01\r\u001b[K     |█████                           | 112 kB 5.1 MB/s eta 0:00:01\r\u001b[K     |█████▌                          | 122 kB 5.1 MB/s eta 0:00:01\r\u001b[K     |██████                          | 133 kB 5.1 MB/s eta 0:00:01\r\u001b[K     |██████▍                         | 143 kB 5.1 MB/s eta 0:00:01\r\u001b[K     |██████▉                         | 153 kB 5.1 MB/s eta 0:00:01\r\u001b[K     |███████▎                        | 163 kB 5.1 MB/s eta 0:00:01\r\u001b[K     |███████▊                        | 174 kB 5.1 MB/s eta 0:00:01\r\u001b[K     |████████▏                       | 184 kB 5.1 MB/s eta 0:00:01\r\u001b[K     |████████▊                       | 194 kB 5.1 MB/s eta 0:00:01\r\u001b[K     |█████████▏                      | 204 kB 5.1 MB/s eta 0:00:01\r\u001b[K     |█████████▋                      | 215 kB 5.1 MB/s eta 0:00:01\r\u001b[K     |██████████                      | 225 kB 5.1 MB/s eta 0:00:01\r\u001b[K     |██████████▌                     | 235 kB 5.1 MB/s eta 0:00:01\r\u001b[K     |███████████                     | 245 kB 5.1 MB/s eta 0:00:01\r\u001b[K     |███████████▍                    | 256 kB 5.1 MB/s eta 0:00:01\r\u001b[K     |███████████▉                    | 266 kB 5.1 MB/s eta 0:00:01\r\u001b[K     |████████████▎                   | 276 kB 5.1 MB/s eta 0:00:01\r\u001b[K     |████████████▊                   | 286 kB 5.1 MB/s eta 0:00:01\r\u001b[K     |█████████████▎                  | 296 kB 5.1 MB/s eta 0:00:01\r\u001b[K     |█████████████▊                  | 307 kB 5.1 MB/s eta 0:00:01\r\u001b[K     |██████████████▏                 | 317 kB 5.1 MB/s eta 0:00:01\r\u001b[K     |██████████████▋                 | 327 kB 5.1 MB/s eta 0:00:01\r\u001b[K     |███████████████                 | 337 kB 5.1 MB/s eta 0:00:01\r\u001b[K     |███████████████▌                | 348 kB 5.1 MB/s eta 0:00:01\r\u001b[K     |████████████████                | 358 kB 5.1 MB/s eta 0:00:01\r\u001b[K     |████████████████▍               | 368 kB 5.1 MB/s eta 0:00:01\r\u001b[K     |████████████████▉               | 378 kB 5.1 MB/s eta 0:00:01\r\u001b[K     |█████████████████▍              | 389 kB 5.1 MB/s eta 0:00:01\r\u001b[K     |█████████████████▉              | 399 kB 5.1 MB/s eta 0:00:01\r\u001b[K     |██████████████████▎             | 409 kB 5.1 MB/s eta 0:00:01\r\u001b[K     |██████████████████▊             | 419 kB 5.1 MB/s eta 0:00:01\r\u001b[K     |███████████████████▏            | 430 kB 5.1 MB/s eta 0:00:01\r\u001b[K     |███████████████████▋            | 440 kB 5.1 MB/s eta 0:00:01\r\u001b[K     |████████████████████            | 450 kB 5.1 MB/s eta 0:00:01\r\u001b[K     |████████████████████▌           | 460 kB 5.1 MB/s eta 0:00:01\r\u001b[K     |█████████████████████           | 471 kB 5.1 MB/s eta 0:00:01\r\u001b[K     |█████████████████████▍          | 481 kB 5.1 MB/s eta 0:00:01\r\u001b[K     |██████████████████████          | 491 kB 5.1 MB/s eta 0:00:01\r\u001b[K     |██████████████████████▍         | 501 kB 5.1 MB/s eta 0:00:01\r\u001b[K     |██████████████████████▉         | 512 kB 5.1 MB/s eta 0:00:01\r\u001b[K     |███████████████████████▎        | 522 kB 5.1 MB/s eta 0:00:01\r\u001b[K     |███████████████████████▊        | 532 kB 5.1 MB/s eta 0:00:01\r\u001b[K     |████████████████████████▏       | 542 kB 5.1 MB/s eta 0:00:01\r\u001b[K     |████████████████████████▋       | 552 kB 5.1 MB/s eta 0:00:01\r\u001b[K     |█████████████████████████       | 563 kB 5.1 MB/s eta 0:00:01\r\u001b[K     |█████████████████████████▌      | 573 kB 5.1 MB/s eta 0:00:01\r\u001b[K     |██████████████████████████      | 583 kB 5.1 MB/s eta 0:00:01\r\u001b[K     |██████████████████████████▌     | 593 kB 5.1 MB/s eta 0:00:01\r\u001b[K     |███████████████████████████     | 604 kB 5.1 MB/s eta 0:00:01\r\u001b[K     |███████████████████████████▍    | 614 kB 5.1 MB/s eta 0:00:01\r\u001b[K     |███████████████████████████▉    | 624 kB 5.1 MB/s eta 0:00:01\r\u001b[K     |████████████████████████████▎   | 634 kB 5.1 MB/s eta 0:00:01\r\u001b[K     |████████████████████████████▊   | 645 kB 5.1 MB/s eta 0:00:01\r\u001b[K     |█████████████████████████████▏  | 655 kB 5.1 MB/s eta 0:00:01\r\u001b[K     |█████████████████████████████▋  | 665 kB 5.1 MB/s eta 0:00:01\r\u001b[K     |██████████████████████████████  | 675 kB 5.1 MB/s eta 0:00:01\r\u001b[K     |██████████████████████████████▋ | 686 kB 5.1 MB/s eta 0:00:01\r\u001b[K     |███████████████████████████████ | 696 kB 5.1 MB/s eta 0:00:01\r\u001b[K     |███████████████████████████████▌| 706 kB 5.1 MB/s eta 0:00:01\r\u001b[K     |████████████████████████████████| 716 kB 5.1 MB/s eta 0:00:01\r\u001b[K     |████████████████████████████████| 718 kB 5.1 MB/s \n",
            "\u001b[?25hCollecting pyro-api>=0.1.1\n",
            "  Downloading pyro_api-0.1.2-py3-none-any.whl (11 kB)\n",
            "Requirement already satisfied: numpy>=1.7 in /usr/local/lib/python3.7/dist-packages (from pyro-ppl) (1.21.5)\n",
            "Requirement already satisfied: opt-einsum>=2.3.2 in /usr/local/lib/python3.7/dist-packages (from pyro-ppl) (3.3.0)\n",
            "Collecting torch>=1.11.0\n",
            "  Downloading torch-1.11.0-cp37-cp37m-manylinux1_x86_64.whl (750.6 MB)\n",
            "\u001b[K     |████████████████████████████████| 750.6 MB 11 kB/s \n",
            "\u001b[?25hRequirement already satisfied: tqdm>=4.36 in /usr/local/lib/python3.7/dist-packages (from pyro-ppl) (4.63.0)\n",
            "Requirement already satisfied: typing-extensions in /usr/local/lib/python3.7/dist-packages (from torch>=1.11.0->pyro-ppl) (3.10.0.2)\n",
            "Installing collected packages: torch, pyro-api, pyro-ppl\n",
            "  Attempting uninstall: torch\n",
            "    Found existing installation: torch 1.10.0+cu111\n",
            "    Uninstalling torch-1.10.0+cu111:\n",
            "      Successfully uninstalled torch-1.10.0+cu111\n",
            "\u001b[31mERROR: pip's dependency resolver does not currently take into account all the packages that are installed. This behaviour is the source of the following dependency conflicts.\n",
            "torchvision 0.11.1+cu111 requires torch==1.10.0, but you have torch 1.11.0 which is incompatible.\n",
            "torchtext 0.11.0 requires torch==1.10.0, but you have torch 1.11.0 which is incompatible.\n",
            "torchaudio 0.10.0+cu111 requires torch==1.10.0, but you have torch 1.11.0 which is incompatible.\u001b[0m\n",
            "Successfully installed pyro-api-0.1.2 pyro-ppl-1.8.1 torch-1.11.0\n"
          ]
        }
      ]
    },
    {
      "cell_type": "code",
      "execution_count": 3,
      "metadata": {
        "id": "nCurSyKaewr0"
      },
      "outputs": [],
      "source": [
        "import torch\n",
        "import pyro\n",
        "pyro.set_rng_seed(1) # for reproducibility\n",
        "\n",
        "import seaborn as sns\n",
        "import matplotlib.pyplot as plt\n",
        "import pyro.distributions as dist\n",
        "# distributions\n",
        "exp = dist.Exponential(0.5)\n",
        "# multiple samples\n",
        "\n",
        "exp_samples = [pyro.sample(\"e\",exp) for i in range(200)]"
      ]
    },
    {
      "cell_type": "code",
      "source": [
        "import numpy as np\n",
        "\n",
        "def ecdf(dist, k, n_samples):\n",
        "    samples = [pyro.sample(\"d\",dist) for i in range(n_samples)]\n",
        "    x = np.sort(samples)\n",
        "    y = np.arange(1, n_samples+1) / n_samples\n",
        "    result = np.interp(k, x,y)\n",
        "    plt.scatter(x=x, y=y);\n",
        "    plt.title(\"Empirical CDF\")\n",
        "    plt\n",
        "    print(result)\n",
        "\n",
        "ecdf(exp, 2, 200)"
      ],
      "metadata": {
        "colab": {
          "base_uri": "https://localhost:8080/",
          "height": 300
        },
        "id": "5zv6xoyODZCZ",
        "outputId": "abc29a3f-8634-48e3-baca-c3c190bdea5e"
      },
      "execution_count": 4,
      "outputs": [
        {
          "output_type": "stream",
          "name": "stdout",
          "text": [
            "0.5945586805011932\n"
          ]
        },
        {
          "output_type": "display_data",
          "data": {
            "text/plain": [
              "<Figure size 432x288 with 1 Axes>"
            ],
            "image/png": "[encoded data removed]"
          },
          "metadata": {
            "needs_background": "light"
          }
        }
      ]
    },
    {
      "cell_type": "markdown",
      "source": [
        "III Exercise"
      ],
      "metadata": {
        "id": "LV1rX-4XhNlA"
      }
    },
    {
      "cell_type": "code",
      "source": [
        "normal = dist.Normal(166, 36)\n",
        "ecdf(normal, 155, 200)"
      ],
      "metadata": {
        "colab": {
          "base_uri": "https://localhost:8080/",
          "height": 300
        },
        "id": "hgpoulNYI-4L",
        "outputId": "ae642662-be4d-4dcd-99e7-f65eaa2fe493"
      },
      "execution_count": 16,
      "outputs": [
        {
          "output_type": "stream",
          "name": "stdout",
          "text": [
            "0.3723704184560072\n"
          ]
        },
        {
          "output_type": "display_data",
          "data": {
            "text/plain": [
              "<Figure size 432x288 with 1 Axes>"
            ],
            "image/png": "[encoded data removed]"
          },
          "metadata": {
            "needs_background": "light"
          }
        }
      ]
    },
    {
      "cell_type": "code",
      "source": [
        "ecdf(normal, 175, 200)"
      ],
      "metadata": {
        "colab": {
          "base_uri": "https://localhost:8080/",
          "height": 300
        },
        "id": "3RW0iXYLL4J6",
        "outputId": "686ee5e7-d6de-40ae-a5d6-51315d2e883f"
      },
      "execution_count": 10,
      "outputs": [
        {
          "output_type": "stream",
          "name": "stdout",
          "text": [
            "0.9639393436542179\n"
          ]
        },
        {
          "output_type": "display_data",
          "data": {
            "text/plain": [
              "<Figure size 432x288 with 1 Axes>"
            ],
            "image/png": "[encoded data removed]"
          },
          "metadata": {
            "needs_background": "light"
          }
        }
      ]
    },
    {
      "cell_type": "code",
      "source": [
        "import math\n",
        "\n",
        "mu_0 = 160\n",
        "sigma_0 = 3\n",
        "sigma_post = 6\n",
        "\n",
        "x = [174, 158, 194, 167]\n",
        "x_i = 693/4 #sum\n",
        "\n",
        "mu_post = (160/9 + 693/36)/(1/9 + 4/36)\n",
        "\n",
        "print(mu_post)"
      ],
      "metadata": {
        "colab": {
          "base_uri": "https://localhost:8080/"
        },
        "id": "KhAVdSeRICKr",
        "outputId": "8afa6e9a-d244-4707-ed7d-8910d8f599a8"
      },
      "execution_count": 7,
      "outputs": [
        {
          "output_type": "stream",
          "name": "stdout",
          "text": [
            "166.625\n"
          ]
        }
      ]
    },
    {
      "cell_type": "code",
      "source": [
        "\n",
        "\n",
        "# distribution\n",
        "normal_prior = dist.Normal(160, 9)\n",
        "normal_post = dist.Normal(166, 36)\n",
        "\n",
        "normal_prior_samples = [pyro.sample(\"normal\",normal_prior) for i in range(200)]\n",
        "normal_post_samples = [pyro.sample(\"normal\",normal_post) for i in range(200)]\n",
        "\n",
        "#plot\n",
        "sns.distplot(normal_prior_samples,label='prior distribution', hist = False)\n",
        "sns.distplot(normal_post_samples, label='posterior distribution', hist = False)\n",
        "plt.hist(x, bins=4, range=None, density=True, color = \"lightgray\", label=\"x data\")\n",
        "\n",
        "plt.legend()\n",
        "plt.axvline(x=mu_0,\n",
        "            color='blue')\n",
        "plt.axvline(x=mu_post,\n",
        "            color='orange')\n",
        "plt.show()"
      ],
      "metadata": {
        "colab": {
          "base_uri": "https://localhost:8080/",
          "height": 358
        },
        "id": "J7ObdLyxgirB",
        "outputId": "e8e787e0-04e2-4ab9-8704-68164e4ccac4"
      },
      "execution_count": 29,
      "outputs": [
        {
          "output_type": "stream",
          "name": "stderr",
          "text": [
            "/usr/local/lib/python3.7/dist-packages/seaborn/distributions.py:2619: FutureWarning: `distplot` is a deprecated function and will be removed in a future version. Please adapt your code to use either `displot` (a figure-level function with similar flexibility) or `kdeplot` (an axes-level function for kernel density plots).\n",
            "  warnings.warn(msg, FutureWarning)\n",
            "/usr/local/lib/python3.7/dist-packages/seaborn/distributions.py:2619: FutureWarning: `distplot` is a deprecated function and will be removed in a future version. Please adapt your code to use either `displot` (a figure-level function with similar flexibility) or `kdeplot` (an axes-level function for kernel density plots).\n",
            "  warnings.warn(msg, FutureWarning)\n"
          ]
        },
        {
          "output_type": "display_data",
          "data": {
            "text/plain": [
              "<Figure size 432x288 with 1 Axes>"
            ],
            "image/png": "[encoded data removed]"
          },
          "metadata": {
            "needs_background": "light"
          }
        }
      ]
    }
  ]
}